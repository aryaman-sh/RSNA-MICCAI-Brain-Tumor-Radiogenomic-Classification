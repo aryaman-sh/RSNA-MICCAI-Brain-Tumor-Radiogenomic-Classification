{
 "cells": [
  {
   "cell_type": "code",
   "execution_count": 40,
   "id": "fcc0e03c",
   "metadata": {},
   "outputs": [],
   "source": [
    "import os\n",
    "import glob\n",
    "import pydicom\n",
    "import numpy as np\n",
    "import cv2\n",
    "from scipy.ndimage import zoom\n",
    "from tqdm import tqdm\n",
    "import cv2\n",
    "import pandas as pd\n",
    "import math\n",
    "\n",
    "def get_pixels_hu(slices, convert=False):\n",
    "    image = np.stack([s.pixel_array for s in slices])\n",
    "    # Convert to int16 (from sometimes int16), \n",
    "    # should be possible as values should always be low enough (<32k)\n",
    "    image = image.astype(np.int16)\n",
    "\n",
    "    # Set outside-of-scan pixels to 0\n",
    "    # The intercept is usually -1024, so air is approximately 0\n",
    "    image[image == -2000] = 0\n",
    "    \n",
    "    if convert:\n",
    "        # Convert to Hounsfield units (HU)\n",
    "        for slice_number in range(len(slices)):\n",
    "\n",
    "            intercept = slices[slice_number].RescaleIntercept\n",
    "            slope = slices[slice_number].RescaleSlope\n",
    "            print(intercept, slope)\n",
    "            if slope != 1:\n",
    "                image[slice_number] = slope * image[slice_number].astype(np.float64)\n",
    "                image[slice_number] = image[slice_number].astype(np.int16)\n",
    "\n",
    "            image[slice_number] += np.int16(intercept)\n",
    "    \n",
    "    return np.array(image, dtype=np.int16)\n",
    "\n",
    "def load_slices(patient, selective=True):\n",
    "    '''\n",
    "    Load slices\n",
    "    '''\n",
    "    sorted_imgs = sorted(glob.glob('../datasets/kaggle-brain-tumor/train/'+patient+'/FLAIR/*.dcm'))\n",
    "    slices = [pydicom.read_file(s) for s in sorted_imgs]\n",
    "    \n",
    "    slices.sort(key = lambda x: float(x.ImagePositionPatient[2]))\n",
    "    try:\n",
    "        slice_thickness = np.abs(slices[0].ImagePositionPatient[2] - slices[1].ImagePositionPatient[2])\n",
    "    except:\n",
    "        slice_thickness = np.abs(slices[0].SliceLocation - slices[1].SliceLocation)\n",
    "    for s in slices:\n",
    "        s.SliceThickness = slice_thickness\n",
    "        \n",
    "    return slices\n",
    "\n",
    "def quantile_filtering(images, lower=0.20, upper=0.80):\n",
    "    # selective filtering\n",
    "    num_images = images.shape[0]\n",
    "    #print(images.shape)\n",
    "    lb = math.floor(lower*num_images)\n",
    "    ub = math.floor(upper*num_images)\n",
    "    images = images[lb:ub]\n",
    "    #print(images.shape)\n",
    "    return images\n",
    "        \n",
    "def remove_blanks(hu_images):\n",
    "    '''\n",
    "    remove blank images form the collection\n",
    "    '''\n",
    "    blanked_images = []\n",
    "    for i in range(hu_images.shape[0]):\n",
    "        if np.min(hu_images[i]) != np.max(hu_images[i]):\n",
    "            blanked_images.append(hu_images[i])\n",
    "    return np.array(blanked_images, dtype=np.int16)\n",
    "\n",
    "def siz(img):\n",
    "    desired_depth = 64\n",
    "    current_depth = img.shape[0]\n",
    "    depth = current_depth / desired_depth\n",
    "    depth_factor = 1 / depth\n",
    "    img_new = zoom(img, (depth_factor, 1, 1), mode='nearest')\n",
    "    return img_new\n",
    "\n",
    "def normalize(img, mini, maxi):\n",
    "    img = (img - mini) / (maxi - mini)\n",
    "    return img\n",
    "\n",
    "def resize_images(img, resize_dim=256):\n",
    "    resized = []\n",
    "    for i in range(img.shape[0]):\n",
    "        im = img[i]\n",
    "        img_t = cv2.resize(im, (resize_dim, resize_dim))\n",
    "        resized.append(img_t)\n",
    "    return np.array(resized)\n",
    "\n",
    "def get_label(patient, df):\n",
    "    label = df._get_value(patient, 'MGMT_value')\n",
    "    if label == 1:\n",
    "        label = np.array(1)\n",
    "    elif label == 0:\n",
    "        label = np.array(0)\n",
    "    return label\n",
    "\n",
    "def zero_center(images, mean):\n",
    "    images = images - mean\n",
    "    return images\n",
    "    \n",
    "# Convert the Image Orientation Patient tag cosine values into a text string of the plane.\n",
    "# This represents the plane the image is 'closest to' .. it does not explain any obliqueness\n",
    "def get_image_plane(loc):\n",
    "\n",
    "    row_x = round(loc[0])\n",
    "    row_y = round(loc[1])\n",
    "    row_z = round(loc[2])\n",
    "    col_x = round(loc[3])\n",
    "    col_y = round(loc[4])\n",
    "    col_z = round(loc[5])\n",
    "\n",
    "    if row_x == 1 and row_y == 0 and col_x == 0 and col_y == 0:\n",
    "        return \"Coronal\"\n",
    "\n",
    "    if row_x == 0 and row_y == 1 and col_x == 0 and col_y == 0:\n",
    "        return \"Sagittal\"\n",
    "\n",
    "    if row_x == 1 and row_y == 0 and col_x == 0 and col_y == 1:\n",
    "        return \"Axial\"\n",
    "\n",
    "    return \"Unknown\"\n",
    "\n",
    "def cropped_images(images):\n",
    "    '''\n",
    "    Input images numpy array (D, H, W) (D = Depth)\n",
    "    '''\n",
    "    min_1=np.array(np.nonzero(images)).min(axis=1)\n",
    "    max_1=np.array(np.nonzero(images)).max(axis=1)\n",
    "    min_crop = min(min_1[1], min_1[2])\n",
    "    max_crop = max(max_1[1], max_1[2])\n",
    "    return images[min_1[0]:max_1[0], min_crop:max_crop,min_crop:max_crop]\n"
   ]
  },
  {
   "cell_type": "markdown",
   "id": "4080591d",
   "metadata": {},
   "source": [
    "## Loop to find number of Sagital, coronal.. FLAIR images"
   ]
  },
  {
   "cell_type": "code",
   "execution_count": 36,
   "id": "dd15f350",
   "metadata": {},
   "outputs": [
    {
     "name": "stderr",
     "output_type": "stream",
     "text": [
      "100%|██████████| 585/585 [02:30<00:00,  3.89it/s]\n"
     ]
    }
   ],
   "source": [
    "patients = os.listdir('../datasets/kaggle-brain-tumor/train')\n",
    "\n",
    "sagittal = []\n",
    "axial = []\n",
    "coronal = []\n",
    "\n",
    "for patient in tqdm(patients):\n",
    "    if patient in ['00109', '00123', '00709']:\n",
    "        continue\n",
    "    \n",
    "    slices = load_slices(patient)\n",
    "    orientation = get_image_plane(slices[0][0x0020, 0x0037])\n",
    "    if orientation == \"Coronal\":\n",
    "        coronal.append(patient)\n",
    "    if orientation == \"Saggital\":\n",
    "        saggital.append(patient)\n",
    "    if orientation == \"Axial\":\n",
    "        axial.append(patient)\n",
    "    "
   ]
  },
  {
   "cell_type": "code",
   "execution_count": 37,
   "id": "696c5ded",
   "metadata": {
    "scrolled": true
   },
   "outputs": [
    {
     "name": "stdout",
     "output_type": "stream",
     "text": [
      "sagittal: 0, axial: 356, coronal: 197\n"
     ]
    }
   ],
   "source": [
    "print(f'sagittal: {len(sagittal)}, axial: {len(axial)}, coronal: {len(coronal)}')"
   ]
  },
  {
   "cell_type": "markdown",
   "id": "986e8f6d",
   "metadata": {},
   "source": [
    "As you can see ari there are 356 axial\n",
    "- Approach will be to try a model only on axial images 256x256"
   ]
  },
  {
   "cell_type": "code",
   "execution_count": 44,
   "id": "c5bbcf1f",
   "metadata": {
    "scrolled": false
   },
   "outputs": [
    {
     "name": "stderr",
     "output_type": "stream",
     "text": [
      "100%|████████████████████████████████████████████████████████████████████████████████| 356/356 [01:30<00:00,  3.94it/s]"
     ]
    },
    {
     "name": "stdout",
     "output_type": "stream",
     "text": [
      "min: 9, max: 309, mean: 39.29494382022472\n"
     ]
    },
    {
     "name": "stderr",
     "output_type": "stream",
     "text": [
      "\n"
     ]
    }
   ],
   "source": [
    "import matplotlib.pyplot as plt\n",
    "# Average number of slices in axial images:\n",
    "lens = []\n",
    "for axial_patient in tqdm(axial):\n",
    "    slices = load_slices(axial_patient)\n",
    "    lens.append(len(slices))\n",
    "\n",
    "lens = np.array(lens)\n",
    "print(f'min: {np.min(lens)}, max: {np.max(lens)}, mean: {np.mean(lens)}')"
   ]
  },
  {
   "cell_type": "code",
   "execution_count": 43,
   "id": "42acb8b7",
   "metadata": {},
   "outputs": [
    {
     "data": {
      "text/plain": [
       "2"
      ]
     },
     "execution_count": 43,
     "metadata": {},
     "output_type": "execute_result"
    },
    {
     "data": {
      "image/png": "[encoded data removed]",
      "text/plain": [
       "<Figure size 432x288 with 1 Axes>"
      ]
     },
     "metadata": {
      "needs_background": "light"
     },
     "output_type": "display_data"
    }
   ],
   "source": [
    "plt.imshow(images[45], cmap='gray')\n",
    "min(5,2)"
   ]
  },
  {
   "cell_type": "markdown",
   "id": "5a6501ff",
   "metadata": {},
   "source": [
    "So i guess 64 is fine but remove data points that are less than 15"
   ]
  },
  {
   "cell_type": "markdown",
   "id": "9e0ac41c",
   "metadata": {},
   "source": [
    "## Find mean, max, min"
   ]
  },
  {
   "cell_type": "code",
   "execution_count": 42,
   "id": "9eddf01c",
   "metadata": {},
   "outputs": [
    {
     "name": "stderr",
     "output_type": "stream",
     "text": [
      "100%|██████████| 356/356 [10:25<00:00,  1.76s/it]"
     ]
    },
    {
     "name": "stdout",
     "output_type": "stream",
     "text": [
      "0.0\n",
      "1.0\n",
      "0.12276916973709348\n"
     ]
    },
    {
     "name": "stderr",
     "output_type": "stream",
     "text": [
      "\n"
     ]
    }
   ],
   "source": [
    "# find mean, min, max for normalization\n",
    "output = []\n",
    "min_val = 1000\n",
    "max_val = -1000\n",
    "summer = 0\n",
    "for patient in tqdm(axial):\n",
    "    slices = load_slices(patient) \n",
    "    #if len(slices) < 10:\n",
    "    #    removed += 1\n",
    "    #    continue\n",
    "    hu_images = get_pixels_hu(slices)\n",
    "    images = remove_blanks(hu_images)\n",
    "    if images.shape[0] < 10:\n",
    "        removed += 1\n",
    "        continue\n",
    "    images = quantile_filtering(images, 0.15, 0.85)\n",
    "    images = cropped_images(images)\n",
    "    im = []\n",
    "    for j in range(images.shape[0]):\n",
    "        im.append(cv2.resize(images[j], (256, 256)))\n",
    "    images = np.array(im)\n",
    "    images = siz(images)\n",
    "    images = normalize(images, mini=-486 , maxi=4738)\n",
    "    #output.append(images)\n",
    "    if np.min(images) < min_val:\n",
    "        min_val = np.min(images)\n",
    "    if np.max(images) > max_val:\n",
    "        max_val = np.max(images)\n",
    "    summer += np.mean(images)\n",
    "\n",
    "print(min_val)\n",
    "print(max_val)\n",
    "print(summer/len(axial))"
   ]
  },
  {
   "cell_type": "markdown",
   "id": "c0404212",
   "metadata": {},
   "source": [
    "## Main exporter"
   ]
  },
  {
   "cell_type": "code",
   "execution_count": 43,
   "id": "051c7f31",
   "metadata": {},
   "outputs": [
    {
     "name": "stderr",
     "output_type": "stream",
     "text": [
      "  0%|          | 0/356 [00:00<?, ?it/s]<ipython-input-43-b1d9b148c28c>:32: VisibleDeprecationWarning: Creating an ndarray from ragged nested sequences (which is a list-or-tuple of lists-or-tuples-or ndarrays with different lengths or shapes) is deprecated. If you meant to do this, you must specify 'dtype=object' when creating the ndarray.\n",
      "  all_data_numpy = np.array(output)\n",
      "100%|██████████| 356/356 [11:00<00:00,  1.85s/it]"
     ]
    },
    {
     "name": "stdout",
     "output_type": "stream",
     "text": [
      "Remove 0\n"
     ]
    },
    {
     "name": "stderr",
     "output_type": "stream",
     "text": [
      "\n"
     ]
    }
   ],
   "source": [
    "labels_df = pd.read_csv('../datasets/kaggle-brain-tumor/train_labels.csv', converters={'BraTS21ID': lambda x: str(x)})\n",
    "labels_df = labels_df.set_index('BraTS21ID')\n",
    "\n",
    "removed = 0\n",
    "for patient in tqdm(axial):\n",
    "    output = []\n",
    "    slices = load_slices(patient, True)\n",
    "    images = get_pixels_hu(slices, False)\n",
    "    images = remove_blanks(images)\n",
    "    if images.shape[0] <10:\n",
    "        removed += 1\n",
    "        continue\n",
    "        \n",
    "    images = quantile_filtering(images, 0.15, 0.85)\n",
    "    images = cropped_images(images)\n",
    "    im = []\n",
    "    for j in range(images.shape[0]):\n",
    "        im.append(cv2.resize(images[j], (256, 256)))\n",
    "    images = np.array(im)\n",
    "    images = siz(images)\n",
    "    images = normalize(images, mini=-403, maxi=4746)\n",
    "    #zero ceter in preprocessing dataloader\n",
    "    images = zero_center(images, 0.12276916973709348)\n",
    "    \n",
    "    label = labels_df._get_value(patient, 'MGMT_value')\n",
    "    if label == 1:\n",
    "        label = np.array(1)\n",
    "    elif label == 0:\n",
    "        label = np.array(0)\n",
    "        \n",
    "    output.append([images, label])\n",
    "    all_data_numpy = np.array(output)\n",
    "    filename = patient + '-AXIAL-QFSIZ.npy'\n",
    "    np.save(filename, all_data_numpy)\n",
    "print(f'Remove {removed}')"
   ]
  },
  {
   "cell_type": "markdown",
   "id": "6ae84ab1",
   "metadata": {},
   "source": [
    "# Checking "
   ]
  },
  {
   "cell_type": "code",
   "execution_count": 33,
   "id": "08e2e2ae",
   "metadata": {
    "scrolled": true
   },
   "outputs": [
    {
     "name": "stdout",
     "output_type": "stream",
     "text": [
      "max: 0.7609924195435592 min: -0.07412119475047838\n"
     ]
    },
    {
     "data": {
      "image/png": "[encoded data removed]",
      "text/plain": [
       "<Figure size 432x288 with 1 Axes>"
      ]
     },
     "metadata": {
      "needs_background": "light"
     },
     "output_type": "display_data"
    }
   ],
   "source": [
    "# Convert = True\n",
    "import matplotlib.pyplot as plt\n",
    "plt.imshow(all_data_numpy[0][0][45])\n",
    "\n",
    "print(f'max: {np.max(all_data_numpy[0][0])} min: {np.min(all_data_numpy[0][0])}')"
   ]
  },
  {
   "cell_type": "code",
   "execution_count": 14,
   "id": "9b181340",
   "metadata": {},
   "outputs": [
    {
     "name": "stdout",
     "output_type": "stream",
     "text": [
      "max: 0.5201689586773717 min: -0.03508448859394313\n"
     ]
    },
    {
     "data": {
      "image/png": "[encoded data removed]",
      "text/plain": [
       "<Figure size 432x288 with 1 Axes>"
      ]
     },
     "metadata": {
      "needs_background": "light"
     },
     "output_type": "display_data"
    }
   ],
   "source": [
    "# conevrt  =False\n",
    "import matplotlib.pyplot as plt\n",
    "plt.imshow(all_data_numpy[0][0][35], cmap='gray')\n",
    "\n",
    "print(f'max: {np.max(all_data_numpy[0][0])} min: {np.min(all_data_numpy[0][0])}')"
   ]
  },
  {
   "cell_type": "code",
   "execution_count": 55,
   "id": "a9965fa5",
   "metadata": {},
   "outputs": [
    {
     "data": {
      "text/plain": [
       "260"
      ]
     },
     "execution_count": 55,
     "metadata": {},
     "output_type": "execute_result"
    }
   ],
   "source": [
    "len(os.listdir('.'))"
   ]
  },
  {
   "cell_type": "code",
   "execution_count": 23,
   "id": "2f5db433",
   "metadata": {},
   "outputs": [
    {
     "name": "stderr",
     "output_type": "stream",
     "text": [
      "\r",
      "  0%|          | 0/10 [00:00<?, ?it/s]"
     ]
    },
    {
     "name": "stdout",
     "output_type": "stream",
     "text": [
      "Coronal\n"
     ]
    },
    {
     "name": "stderr",
     "output_type": "stream",
     "text": [
      "<ipython-input-23-fa92a3ef4707>:30: VisibleDeprecationWarning: Creating an ndarray from ragged nested sequences (which is a list-or-tuple of lists-or-tuples-or ndarrays with different lengths or shapes) is deprecated. If you meant to do this, you must specify 'dtype=object' when creating the ndarray.\n",
      "  all_data_numpy = np.array(output)\n",
      "\r",
      " 10%|█         | 1/10 [00:03<00:34,  3.88s/it]"
     ]
    },
    {
     "name": "stdout",
     "output_type": "stream",
     "text": [
      "Sagittal\n"
     ]
    },
    {
     "name": "stderr",
     "output_type": "stream",
     "text": [
      "\r",
      " 20%|██        | 2/10 [00:06<00:27,  3.40s/it]"
     ]
    },
    {
     "name": "stdout",
     "output_type": "stream",
     "text": [
      "Sagittal\n"
     ]
    },
    {
     "name": "stderr",
     "output_type": "stream",
     "text": [
      "\r",
      " 30%|███       | 3/10 [00:09<00:22,  3.19s/it]"
     ]
    },
    {
     "name": "stdout",
     "output_type": "stream",
     "text": [
      "Coronal\n"
     ]
    },
    {
     "name": "stderr",
     "output_type": "stream",
     "text": [
      "\r",
      " 40%|████      | 4/10 [00:14<00:22,  3.75s/it]"
     ]
    },
    {
     "name": "stdout",
     "output_type": "stream",
     "text": [
      "Axial\n"
     ]
    },
    {
     "name": "stderr",
     "output_type": "stream",
     "text": [
      "\r",
      " 50%|█████     | 5/10 [00:17<00:17,  3.48s/it]"
     ]
    },
    {
     "name": "stdout",
     "output_type": "stream",
     "text": [
      "Sagittal\n"
     ]
    },
    {
     "name": "stderr",
     "output_type": "stream",
     "text": [
      "\r",
      " 60%|██████    | 6/10 [00:20<00:13,  3.35s/it]"
     ]
    },
    {
     "name": "stdout",
     "output_type": "stream",
     "text": [
      "Sagittal\n"
     ]
    },
    {
     "name": "stderr",
     "output_type": "stream",
     "text": [
      "\r",
      " 70%|███████   | 7/10 [00:24<00:10,  3.48s/it]"
     ]
    },
    {
     "name": "stdout",
     "output_type": "stream",
     "text": [
      "Sagittal\n"
     ]
    },
    {
     "name": "stderr",
     "output_type": "stream",
     "text": [
      "\r",
      " 80%|████████  | 8/10 [00:27<00:06,  3.41s/it]"
     ]
    },
    {
     "name": "stdout",
     "output_type": "stream",
     "text": [
      "Coronal\n"
     ]
    },
    {
     "name": "stderr",
     "output_type": "stream",
     "text": [
      "\r",
      " 90%|█████████ | 9/10 [00:32<00:03,  3.92s/it]"
     ]
    },
    {
     "name": "stdout",
     "output_type": "stream",
     "text": [
      "Coronal\n"
     ]
    },
    {
     "name": "stderr",
     "output_type": "stream",
     "text": [
      "100%|██████████| 10/10 [00:36<00:00,  3.63s/it]\n"
     ]
    }
   ],
   "source": [
    "patients = os.listdir('../datasets/kaggle-brain-tumor/train')\n",
    "\n",
    "labels_df = pd.read_csv('../datasets/kaggle-brain-tumor/train_labels.csv', converters={'BraTS21ID': lambda x: str(x)})\n",
    "labels_df = labels_df.set_index('BraTS21ID')\n",
    "\n",
    "for patient in tqdm(patients[:10]):\n",
    "    if patient in ['00109', '00123', '00709']:\n",
    "        continue\n",
    "    output = []\n",
    "    slices = load_slices(patient)\n",
    "    \n",
    "    print(get_image_plane(slices[0][0x0020,0x0037]))\n",
    "    \n",
    "    hu_images = get_pixels_hu(slices)\n",
    "    images = remove_blanks(hu_images)\n",
    "    im = []\n",
    "    for j in range(images.shape[0]):\n",
    "        im.append(cv2.resize(images[j], (256, 256)))\n",
    "    images = np.array(im)\n",
    "    images = siz(images)\n",
    "    images = normalize(images)\n",
    "    \n",
    "    label = labels_df._get_value(patient, 'MGMT_value')\n",
    "    if label == 1:\n",
    "        label = np.array(1)\n",
    "    elif label == 0:\n",
    "        label = np.array(0)\n",
    "    \n",
    "    output.append([images, label])\n",
    "    all_data_numpy = np.array(output)\n",
    "    filename = patient + '.npy'\n",
    "    np.save(filename, all_data_numpy)\n"
   ]
  },
  {
   "cell_type": "code",
   "execution_count": 11,
   "id": "d3252b7c",
   "metadata": {},
   "outputs": [
    {
     "name": "stdout",
     "output_type": "stream",
     "text": [
      "[[0.07375099 0.07375099 0.07375099 ... 0.07375099 0.07375099 0.07375099]\n",
      " [0.07375099 0.07375099 0.07375099 ... 0.07375099 0.07375099 0.07375099]\n",
      " [0.07375099 0.07375099 0.07375099 ... 0.07375099 0.07375099 0.07375099]\n",
      " ...\n",
      " [0.07375099 0.07375099 0.07375099 ... 0.07375099 0.07375099 0.07375099]\n",
      " [0.07375099 0.07375099 0.07375099 ... 0.07375099 0.07375099 0.07375099]\n",
      " [0.07375099 0.07375099 0.07375099 ... 0.07375099 0.07375099 0.07375099]]\n"
     ]
    }
   ],
   "source": [
    "print(all_data_numpy[0][0][56])"
   ]
  },
  {
   "cell_type": "code",
   "execution_count": 17,
   "id": "b297e0dc",
   "metadata": {
    "scrolled": true
   },
   "outputs": [
    {
     "data": {
      "text/plain": [
       "<matplotlib.image.AxesImage at 0x7f88d5e24af0>"
      ]
     },
     "execution_count": 17,
     "metadata": {},
     "output_type": "execute_result"
    },
    {
     "data": {
      "image/png": "[encoded data removed]",
      "text/plain": [
       "<Figure size 432x288 with 1 Axes>"
      ]
     },
     "metadata": {
      "needs_background": "light"
     },
     "output_type": "display_data"
    }
   ],
   "source": [
    "import matplotlib.pyplot as plt\n",
    "plt.imshow(all_data_numpy[0][0][56])"
   ]
  },
  {
   "cell_type": "code",
   "execution_count": 26,
   "id": "0c9377d3",
   "metadata": {
    "scrolled": true
   },
   "outputs": [
    {
     "data": {
      "text/plain": [
       "<matplotlib.image.AxesImage at 0x7f8d7bc1dbe0>"
      ]
     },
     "execution_count": 26,
     "metadata": {},
     "output_type": "execute_result"
    },
    {
     "data": {
      "image/png": "[encoded data removed]",
      "text/plain": [
       "<Figure size 432x288 with 1 Axes>"
      ]
     },
     "metadata": {
      "needs_background": "light"
     },
     "output_type": "display_data"
    }
   ],
   "source": [
    "import matplotlib.pyplot as plt\n",
    "plt.imshow(all_data_numpy[0][0][45], cmap='gray')"
   ]
  },
  {
   "cell_type": "code",
   "execution_count": 14,
   "id": "975c7cfa",
   "metadata": {},
   "outputs": [
    {
     "data": {
      "text/plain": [
       "['00000.npy', 'converter.ipynb', '.ipynb_checkpoints']"
      ]
     },
     "execution_count": 14,
     "metadata": {},
     "output_type": "execute_result"
    }
   ],
   "source": [
    "os.listdir('./')"
   ]
  },
  {
   "cell_type": "code",
   "execution_count": 15,
   "id": "4d962e39",
   "metadata": {},
   "outputs": [],
   "source": [
    "import numpy as np\n",
    "sata = np.load('./00000.npy', allow_pickle=True)"
   ]
  },
  {
   "cell_type": "code",
   "execution_count": 17,
   "id": "4c3ddeea",
   "metadata": {},
   "outputs": [
    {
     "data": {
      "text/plain": [
       "(64, 256, 256)"
      ]
     },
     "execution_count": 17,
     "metadata": {},
     "output_type": "execute_result"
    }
   ],
   "source": [
    "sata[0][0].shape"
   ]
  },
  {
   "cell_type": "markdown",
   "id": "234f22e1",
   "metadata": {},
   "source": [
    "## Evaluating dataset mean"
   ]
  },
  {
   "cell_type": "code",
   "execution_count": 9,
   "id": "ce031e09",
   "metadata": {},
   "outputs": [
    {
     "name": "stderr",
     "output_type": "stream",
     "text": [
      "100%|██████████| 585/585 [30:57<00:00,  3.18s/it] \n"
     ]
    }
   ],
   "source": [
    "patients = os.listdir('/run/media/aryaman/T7/datasets/kaggle-brain-tumor/train')\n",
    "\n",
    "labels_df = pd.read_csv('/run/media/aryaman/T7/datasets/kaggle-brain-tumor/train_labels.csv', converters={'BraTS21ID': lambda x: str(x)})\n",
    "labels_df = labels_df.set_index('BraTS21ID')\n",
    "\n",
    "output = []\n",
    "min_val = 1000\n",
    "max_val = -1000\n",
    "for patient in tqdm(patients):\n",
    "    if patient in ['00109', '00123', '00709']:\n",
    "        continue\n",
    "    \n",
    "    slices = load_slices(patient) \n",
    "    hu_images = get_pixels_hu(slices)\n",
    "    images = remove_blanks(hu_images)\n",
    "    im = []\n",
    "    for j in range(images.shape[0]):\n",
    "        im.append(cv2.resize(images[j], (256, 256)))\n",
    "    images = np.array(im)\n",
    "    images = siz(images)\n",
    "    #output.append(images)\n",
    "    if np.min(images) < min_val:\n",
    "        min_val = np.min(images)\n",
    "    if np.max(images) > max_val:\n",
    "        max_val = np.max(images)"
   ]
  },
  {
   "cell_type": "code",
   "execution_count": 10,
   "id": "4c6a56f3",
   "metadata": {},
   "outputs": [
    {
     "name": "stdout",
     "output_type": "stream",
     "text": [
      "-465 5840\n"
     ]
    }
   ],
   "source": [
    "print(min_val, max_val)"
   ]
  },
  {
   "cell_type": "markdown",
   "id": "d9bd56e6",
   "metadata": {},
   "source": []
  }
 ],
 "metadata": {
  "kernelspec": {
   "display_name": "Python 3 (ipykernel)",
   "language": "python",
   "name": "python3"
  },
  "language_info": {
   "codemirror_mode": {
    "name": "ipython",
    "version": 3
   },
   "file_extension": ".py",
   "mimetype": "text/x-python",
   "name": "python",
   "nbconvert_exporter": "python",
   "pygments_lexer": "ipython3",
   "version": "3.9.6"
  }
 },
 "nbformat": 4,
 "nbformat_minor": 5
}
