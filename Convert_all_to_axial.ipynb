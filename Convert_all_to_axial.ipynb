{
 "cells": [
  {
   "cell_type": "markdown",
   "id": "70f4fe06",
   "metadata": {},
   "source": [
    "# Objective of this notebook is to convert all images to axial"
   ]
  },
  {
   "cell_type": "code",
   "execution_count": 11,
   "id": "24bcd3d4",
   "metadata": {},
   "outputs": [],
   "source": [
    "import os\n",
    "import glob\n",
    "import pydicom\n",
    "import numpy as np\n",
    "import cv2\n",
    "from scipy.ndimage import zoom\n",
    "from tqdm import tqdm\n",
    "import cv2\n",
    "import pandas as pd\n",
    "import math\n"
   ]
  },
  {
   "cell_type": "code",
   "execution_count": 110,
   "id": "5ac2f530",
   "metadata": {},
   "outputs": [],
   "source": [
    "import os\n",
    "import glob\n",
    "import pydicom\n",
    "import numpy as np\n",
    "import cv2\n",
    "from scipy.ndimage import zoom\n",
    "from tqdm import tqdm\n",
    "import cv2\n",
    "import pandas as pd\n",
    "import math\n",
    "\n",
    "def get_pixels_hu(slices, convert=False):\n",
    "    image = np.stack([s.pixel_array for s in slices])\n",
    "    # Convert to int16 (from sometimes int16), \n",
    "    # should be possible as values should always be low enough (<32k)\n",
    "    image = image.astype(np.int16)\n",
    "\n",
    "    # Set outside-of-scan pixels to 0\n",
    "    # The intercept is usually -1024, so air is approximately 0\n",
    "    image[image == -2000] = 0\n",
    "    \n",
    "    if convert:\n",
    "        # Convert to Hounsfield units (HU)\n",
    "        for slice_number in range(len(slices)):\n",
    "\n",
    "            intercept = slices[slice_number].RescaleIntercept\n",
    "            slope = slices[slice_number].RescaleSlope\n",
    "            print(intercept, slope)\n",
    "            if slope != 1:\n",
    "                image[slice_number] = slope * image[slice_number].astype(np.float64)\n",
    "                image[slice_number] = image[slice_number].astype(np.int16)\n",
    "\n",
    "            image[slice_number] += np.int16(intercept)\n",
    "    \n",
    "    return np.array(image, dtype=np.int16)\n",
    "\n",
    "def load_slices(patient, selective=True):\n",
    "    '''\n",
    "    Load slices\n",
    "    '''\n",
    "    sorted_imgs = sorted(glob.glob('./datasets/kaggle-brain-tumor/train/'+patient+'/FLAIR/*.dcm'))\n",
    "    slices = [pydicom.read_file(s) for s in sorted_imgs]\n",
    "    \n",
    "    slices.sort(key = lambda x: float(x.ImagePositionPatient[2]))\n",
    "    try:\n",
    "        slice_thickness = np.abs(slices[0].ImagePositionPatient[2] - slices[1].ImagePositionPatient[2])\n",
    "    except:\n",
    "        slice_thickness = np.abs(slices[0].SliceLocation - slices[1].SliceLocation)\n",
    "    for s in slices:\n",
    "        s.SliceThickness = slice_thickness\n",
    "        \n",
    "    return slices\n",
    "\n",
    "def quantile_filtering(images, lower=0.20, upper=0.80):\n",
    "    # selective filtering\n",
    "    num_images = images.shape[0]\n",
    "    #print(images.shape)\n",
    "    lb = math.floor(lower*num_images)\n",
    "    ub = math.floor(upper*num_images)\n",
    "    images = images[lb:ub]\n",
    "    #print(images.shape)\n",
    "    return images\n",
    "        \n",
    "def remove_blanks(hu_images):\n",
    "    '''\n",
    "    remove blank images form the collection\n",
    "    '''\n",
    "    blanked_images = []\n",
    "    for i in range(hu_images.shape[0]):\n",
    "        if np.min(hu_images[i]) != np.max(hu_images[i]):\n",
    "            blanked_images.append(hu_images[i])\n",
    "    return np.array(blanked_images, dtype=np.int16)\n",
    "\n",
    "def siz(img):\n",
    "    desired_depth = 64\n",
    "    current_depth = img.shape[0]\n",
    "    depth = current_depth / desired_depth\n",
    "    depth_factor = 1 / depth\n",
    "    img_new = zoom(img, (depth_factor, 1, 1), mode='nearest')\n",
    "    return img_new\n",
    "\n",
    "def normalize(img, mini, maxi):\n",
    "    img = (img - mini) / (maxi - mini)\n",
    "    return img\n",
    "\n",
    "def resize_images(img, resize_dim=256):\n",
    "    resized = []\n",
    "    for i in range(img.shape[0]):\n",
    "        im = img[i]\n",
    "        img_t = cv2.resize(im, (resize_dim, resize_dim))\n",
    "        resized.append(img_t)\n",
    "    return np.array(resized)\n",
    "\n",
    "def get_label(patient, df):\n",
    "    label = df._get_value(patient, 'MGMT_value')\n",
    "    if label == 1:\n",
    "        label = np.array(1)\n",
    "    elif label == 0:\n",
    "        label = np.array(0)\n",
    "    return label\n",
    "\n",
    "def zero_center(images, mean):\n",
    "    images = images - mean\n",
    "    return images\n",
    "    \n",
    "# Convert the Image Orientation Patient tag cosine values into a text string of the plane.\n",
    "# This represents the plane the image is 'closest to' .. it does not explain any obliqueness\n",
    "def get_image_plane(loc):\n",
    "\n",
    "    row_x = round(loc[0])\n",
    "    row_y = round(loc[1])\n",
    "    row_z = round(loc[2])\n",
    "    col_x = round(loc[3])\n",
    "    col_y = round(loc[4])\n",
    "    col_z = round(loc[5])\n",
    "\n",
    "    if row_x == 1 and row_y == 0 and col_x == 0 and col_y == 0:\n",
    "        return \"Coronal\"\n",
    "\n",
    "    if row_x == 0 and row_y == 1 and col_x == 0 and col_y == 0:\n",
    "        return \"Sagittal\"\n",
    "\n",
    "    if row_x == 1 and row_y == 0 and col_x == 0 and col_y == 1:\n",
    "        return \"Axial\"\n",
    "\n",
    "    return \"Unknown\"\n",
    "\n",
    "def cropped_images(images):\n",
    "    '''\n",
    "    Input images numpy array (D, H, W) (D = Depth)\n",
    "    '''\n",
    "    min_1=np.array(np.nonzero(images)).min(axis=1)\n",
    "    max_1=np.array(np.nonzero(images)).max(axis=1)\n",
    "    min_crop = min(min_1[1], min_1[2])\n",
    "    max_crop = max(max_1[1], max_1[2])\n",
    "    return images[min_1[0]:max_1[0], min_crop:max_crop,min_crop:max_crop]\n"
   ]
  },
  {
   "cell_type": "code",
   "execution_count": 82,
   "id": "cae097c1",
   "metadata": {},
   "outputs": [],
   "source": [
    "patients = os.listdir('./datasets/kaggle-brain-tumor/train')"
   ]
  },
  {
   "cell_type": "code",
   "execution_count": 20,
   "id": "ceb2ae43",
   "metadata": {},
   "outputs": [
    {
     "name": "stderr",
     "output_type": "stream",
     "text": [
      "  0%|                                                   | 0/585 [00:01<?, ?it/s]"
     ]
    },
    {
     "name": "stdout",
     "output_type": "stream",
     "text": [
      "00000\n"
     ]
    },
    {
     "name": "stderr",
     "output_type": "stream",
     "text": [
      "\n"
     ]
    }
   ],
   "source": [
    "sagittal = []\n",
    "axial = []\n",
    "coronal = []\n",
    "\n",
    "for patient in tqdm(patients):\n",
    "    if patient in ['00109', '00123', '00709']:\n",
    "        continue\n",
    "    slices = load_slices(patient)\n",
    "    orientation = get_image_plane(slices[0][0x0020, 0x0037])\n",
    "    if orientation == \"Coronal\":\n",
    "        print(patient)\n",
    "        break\n",
    "    if orientation == \"Saggital\":\n",
    "        saggital.append(patient)\n",
    "    if orientation == \"Axial\":\n",
    "        axial.append(patient)"
   ]
  },
  {
   "cell_type": "code",
   "execution_count": 111,
   "id": "021b0f59",
   "metadata": {
    "scrolled": true
   },
   "outputs": [
    {
     "name": "stdout",
     "output_type": "stream",
     "text": [
      "Coronal\n"
     ]
    },
    {
     "data": {
      "text/plain": [
       "<matplotlib.image.AxesImage at 0x7f76c86b8bb0>"
      ]
     },
     "execution_count": 111,
     "metadata": {},
     "output_type": "execute_result"
    },
    {
     "data": {
      "image/png": "[encoded data removed]",
      "text/plain": [
       "<Figure size 432x288 with 1 Axes>"
      ]
     },
     "metadata": {
      "needs_background": "light"
     },
     "output_type": "display_data"
    }
   ],
   "source": [
    "# Confirm 00000 is not axial\n",
    "import matplotlib.pyplot as plt\n",
    "slices = load_slices('00000')\n",
    "orientation = get_image_plane(slices[0][0x0020, 0x0037])\n",
    "print(orientation)\n",
    "hu_images = get_pixels_hu(slices)\n",
    "images = remove_blanks(hu_images)\n",
    "plt.imshow(images[20])"
   ]
  },
  {
   "cell_type": "code",
   "execution_count": 112,
   "id": "bac1000a",
   "metadata": {},
   "outputs": [],
   "source": [
    "images = images.transpose((1,0,2))"
   ]
  },
  {
   "cell_type": "code",
   "execution_count": 115,
   "id": "c2cfd911",
   "metadata": {
    "scrolled": true
   },
   "outputs": [
    {
     "data": {
      "text/plain": [
       "<matplotlib.image.AxesImage at 0x7f76cb159df0>"
      ]
     },
     "execution_count": 115,
     "metadata": {},
     "output_type": "execute_result"
    },
    {
     "data": {
      "image/png": "[encoded data removed]",
      "text/plain": [
       "<Figure size 432x288 with 1 Axes>"
      ]
     },
     "metadata": {
      "needs_background": "light"
     },
     "output_type": "display_data"
    }
   ],
   "source": [
    "plt.imshow(images[25])"
   ]
  },
  {
   "cell_type": "code",
   "execution_count": 117,
   "id": "d252d746",
   "metadata": {},
   "outputs": [
    {
     "data": {
      "text/plain": [
       "array([0], dtype=int16)"
      ]
     },
     "execution_count": 117,
     "metadata": {},
     "output_type": "execute_result"
    }
   ],
   "source": [
    "np.unique(images[25])"
   ]
  },
  {
   "cell_type": "markdown",
   "id": "fdc4441a",
   "metadata": {},
   "source": [
    "# Above image is coronal\n",
    "Aim is to convert all to saggital"
   ]
  },
  {
   "cell_type": "code",
   "execution_count": 106,
   "id": "71aa34f2",
   "metadata": {},
   "outputs": [],
   "source": [
    "def get_image_plane(data):\n",
    "    x1, y1, _, x2, y2, _ = [round(j) for j in data.ImageOrientationPatient]\n",
    "    cords = [x1, y1, x2, y2]\n",
    "\n",
    "    if cords == [1, 0, 0, 0]:\n",
    "        return 'Coronal'\n",
    "    elif cords == [1, 0, 0, 1]:\n",
    "        return 'Axial'\n",
    "    elif cords == [0, 1, 0, 0]:\n",
    "        return 'Sagittal'\n",
    "    else:\n",
    "        return 'Unknown'\n",
    "\n",
    "def get_voxel(study_id, scan_type='FLAIR'):\n",
    "    slices = load_slices('00000')\n",
    "    hu_images = get_pixels_hu(slices)\n",
    "    imgs = remove_blanks(hu_images)\n",
    "    #plt.imshow(images[10])\n",
    "    \n",
    "    positions = []\n",
    "    for iii in slices:\n",
    "        positions.append(iii.ImagePositionPatient)\n",
    "        #print(iii.ImagePositionPatient)\n",
    "    \n",
    "    plane = get_image_plane(iii)\n",
    "    print(plane)\n",
    "    #voxel = np.stack(imgs)\n",
    "    voxel = imgs\n",
    "    # reorder planes if needed and rotate voxel\n",
    "    if plane == \"Coronal\":\n",
    "        print('tes coronal')\n",
    "        print(positions[0][1], positions[-1][1])\n",
    "        if positions[0][1] < positions[-1][1]:\n",
    "            voxel = voxel[::-1]\n",
    "            print(f\"{study_id} {scan_type} {plane} reordered\")\n",
    "        voxel = voxel.transpose((1, 0, 2))\n",
    "    elif plane == \"Sagittal\":\n",
    "        if positions[0][0] < positions[-1][0]:\n",
    "            voxel = voxel[::-1]\n",
    "            print(f\"{study_id} {scan_type} {plane} reordered\")\n",
    "        voxel = voxel.transpose((1, 2, 0))\n",
    "        voxel = np.rot90(voxel, 2, axes=(1, 2))\n",
    "    elif plane == \"Axial\":\n",
    "        if positions[0][2] > positions[-1][2]:\n",
    "            voxel = voxel[::-1]\n",
    "            print(f\"{study_id} {scan_type} {plane} reordered\")\n",
    "        voxel = np.rot90(voxel, 2)\n",
    "    else:\n",
    "        raise ValueError(f\"Unknown plane {plane}\")\n",
    "    return voxel, plane\n",
    "    "
   ]
  },
  {
   "cell_type": "code",
   "execution_count": 107,
   "id": "993d9d16",
   "metadata": {},
   "outputs": [
    {
     "name": "stdout",
     "output_type": "stream",
     "text": [
      "Coronal\n",
      "tes coronal\n",
      "90.3865 31.5865\n"
     ]
    }
   ],
   "source": [
    "v,p = get_voxel(study_id='00002')"
   ]
  },
  {
   "cell_type": "code",
   "execution_count": 73,
   "id": "e33ad034",
   "metadata": {},
   "outputs": [],
   "source": [
    "imgs = []\n",
    "sorted_imgs = sorted(glob.glob('./datasets/kaggle-brain-tumor/train/'+'00002'+'/FLAIR/*.dcm'))\n",
    "slices = [pydicom.read_file(s) for s in sorted_imgs]\n",
    "#dcm_paths = sorted(glob.glob('./datasets/kaggle-brain-tumor/train/'+'00002'+'/FLAIR/*.dcm'))\n",
    "#imges = [pydicom.read_file(s) for s in dcm_paths]"
   ]
  },
  {
   "cell_type": "code",
   "execution_count": 74,
   "id": "a4ecc10a",
   "metadata": {},
   "outputs": [
    {
     "data": {
      "text/plain": [
       "129"
      ]
     },
     "execution_count": 74,
     "metadata": {},
     "output_type": "execute_result"
    }
   ],
   "source": [
    "len(imges)"
   ]
  },
  {
   "cell_type": "code",
   "execution_count": 108,
   "id": "37a56616",
   "metadata": {},
   "outputs": [],
   "source": [
    "np.unique(slices[100].pixel_array)\n",
    "img = slices[100].pixel_array\n",
    "img = img.astype(np.int16)"
   ]
  },
  {
   "cell_type": "code",
   "execution_count": 79,
   "id": "4eafd6a6",
   "metadata": {},
   "outputs": [
    {
     "data": {
      "text/plain": [
       "array([0], dtype=int16)"
      ]
     },
     "execution_count": 79,
     "metadata": {},
     "output_type": "execute_result"
    }
   ],
   "source": [
    "np.unique(img)"
   ]
  }
 ],
 "metadata": {
  "kernelspec": {
   "display_name": "Python 3 (ipykernel)",
   "language": "python",
   "name": "python3"
  },
  "language_info": {
   "codemirror_mode": {
    "name": "ipython",
    "version": 3
   },
   "file_extension": ".py",
   "mimetype": "text/x-python",
   "name": "python",
   "nbconvert_exporter": "python",
   "pygments_lexer": "ipython3",
   "version": "3.9.6"
  }
 },
 "nbformat": 4,
 "nbformat_minor": 5
}
