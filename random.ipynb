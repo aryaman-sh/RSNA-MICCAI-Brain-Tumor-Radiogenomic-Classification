{
 "cells": [
  {
   "cell_type": "code",
   "execution_count": 1,
   "id": "fa63485d",
   "metadata": {},
   "outputs": [],
   "source": [
    "import os\n",
    "import sys \n",
    "from tqdm import tqdm\n",
    "import numpy as np\n",
    "import pandas as pd\n",
    "import matplotlib.pyplot as plt\n",
    "from PIL import Image\n",
    "import pydicom\n",
    "\n",
    "import numpy as np\n",
    "import nibabel as nib\n",
    "import matplotlib.pyplot as plt\n",
    "import SimpleITK as sitk\n",
    "\n",
    "reader = sitk.ImageSeriesReader()\n",
    "reader.LoadPrivateTagsOn()"
   ]
  },
  {
   "cell_type": "code",
   "execution_count": 8,
   "id": "39b67ecc",
   "metadata": {},
   "outputs": [],
   "source": [
    "patients = os.listdir('./datasets/kaggle-brain-tumor/train')"
   ]
  },
  {
   "cell_type": "code",
   "execution_count": 11,
   "id": "ed2ae889",
   "metadata": {},
   "outputs": [
    {
     "name": "stderr",
     "output_type": "stream",
     "text": [
      "100%|█████████████████████████████████████████████| 1/1 [00:02<00:00,  2.44s/it]\n"
     ]
    }
   ],
   "source": [
    "for patient in tqdm(patients[:1]):\n",
    "    filenamesDICOM = reader.GetGDCMSeriesFileNames('./datasets/kaggle-brain-tumor/train/'+patient+'/T2w')\n",
    "    reader.SetFileNames(filenamesDICOM)\n",
    "    t1_sitk = reader.Execute()\n",
    "    sitk.WriteImage(t1_sitk,'t1.nii.gz')"
   ]
  },
  {
   "cell_type": "code",
   "execution_count": null,
   "id": "774c1fba",
   "metadata": {},
   "outputs": [],
   "source": [
    "filenamesDICOM = reader.GetGDCMSeriesFileNames('./datasets/kaggle-brain-tumor/train/'+patient+'/T2w')\n",
    "    reader.SetFileNames(filenamesDICOM)\n",
    "    t1_sitk = reader.Execute()\n",
    "    sitk.WriteImage(t1_sitk,'t1.nii.gz')"
   ]
  },
  {
   "cell_type": "code",
   "execution_count": 3,
   "id": "5ba366cd",
   "metadata": {},
   "outputs": [
    {
     "data": {
      "text/plain": [
       "['1.dcm']"
      ]
     },
     "execution_count": 3,
     "metadata": {},
     "output_type": "execute_result"
    }
   ],
   "source": [
    "import os\n",
    "os.listdir('./test_brain_remove/')\n"
   ]
  },
  {
   "cell_type": "code",
   "execution_count": 6,
   "id": "79bdb8ae-34b7-49c6-a42f-38f8bb4c15eb",
   "metadata": {},
   "outputs": [],
   "source": [
    "filenamesDICOM = reader.GetGDCMSeriesFileNames('./test_brain_remove/')\n",
    "reader.SetFileNames(filenamesDICOM)\n",
    "t1_sitk = reader.Execute()\n",
    "sitk.WriteImage(t1_sitk,'tester.nii.gz')"
   ]
  },
  {
   "cell_type": "code",
   "execution_count": null,
   "id": "788170df-c575-44ab-bfd8-5a0a5374bc90",
   "metadata": {},
   "outputs": [],
   "source": []
  }
 ],
 "metadata": {
  "kernelspec": {
   "display_name": "Python 3 (ipykernel)",
   "language": "python",
   "name": "python3"
  },
  "language_info": {
   "codemirror_mode": {
    "name": "ipython",
    "version": 3
   },
   "file_extension": ".py",
   "mimetype": "text/x-python",
   "name": "python",
   "nbconvert_exporter": "python",
   "pygments_lexer": "ipython3",
   "version": "3.9.6"
  }
 },
 "nbformat": 4,
 "nbformat_minor": 5
}
