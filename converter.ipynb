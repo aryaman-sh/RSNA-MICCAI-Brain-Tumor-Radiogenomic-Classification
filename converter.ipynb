{
 "cells": [
  {
   "cell_type": "code",
   "execution_count": 4,
   "metadata": {},
   "outputs": [
    {
     "name": "stdout",
     "output_type": "stream",
     "text": [
      "Collecting opencv-python\n",
      "  Downloading opencv_python-4.5.3.56-cp38-cp38-win_amd64.whl (34.9 MB)\n",
      "Requirement already satisfied: numpy>=1.17.3 in c:\\programdata\\anaconda3\\lib\\site-packages (from opencv-python) (1.19.2)\n",
      "Installing collected packages: opencv-python\n",
      "Successfully installed opencv-python-4.5.3.56\n"
     ]
    }
   ],
   "source": [
    "!pip install opencv-python"
   ]
  },
  {
   "cell_type": "code",
   "execution_count": 8,
   "metadata": {},
   "outputs": [],
   "source": [
    "import os\n",
    "import glob\n",
    "import pydicom\n",
    "import numpy as np\n",
    "import cv2\n",
    "from scipy.ndimage import zoom\n",
    "from tqdm import tqdm\n",
    "import cv2\n",
    "import pandas as pd\n",
    "import math\n",
    "\n",
    "def get_pixels_hu(slices):\n",
    "    image = np.stack([s.pixel_array for s in slices])\n",
    "    # Convert to int16 (from sometimes int16), \n",
    "    # should be possible as values should always be low enough (<32k)\n",
    "    image = image.astype(np.int16)\n",
    "\n",
    "    # Set outside-of-scan pixels to 0\n",
    "    # The intercept is usually -1024, so air is approximately 0\n",
    "    image[image == -2000] = 0\n",
    "    \n",
    "    # Convert to Hounsfield units (HU)\n",
    "    for slice_number in range(len(slices)):\n",
    "        \n",
    "        intercept = slices[slice_number].RescaleIntercept\n",
    "        slope = slices[slice_number].RescaleSlope\n",
    "        \n",
    "        if slope != 1:\n",
    "            image[slice_number] = slope * image[slice_number].astype(np.float64)\n",
    "            image[slice_number] = image[slice_number].astype(np.int16)\n",
    "            \n",
    "        image[slice_number] += np.int16(intercept)\n",
    "    \n",
    "    return np.array(image, dtype=np.int16)\n",
    "\n",
    "def load_slices(patient):\n",
    "    '''\n",
    "    Load slices\n",
    "    '''\n",
    "    sorted_imgs = sorted(glob.glob('../datasets/kaggle-brain-tumor/train/'+patient+'/T1w/*.dcm'))\n",
    "    slices = [pydicom.read_file(s) for s in sorted_imgs]\n",
    "    \n",
    "    # selective filtering\n",
    "    lb = math.floor(0.20*len(slices))\n",
    "    ub = math.floor(0.80*len(slices))\n",
    "    slices = slices[lb:ub]\n",
    "    \n",
    "    slices.sort(key = lambda x: float(x.ImagePositionPatient[2]))\n",
    "    try:\n",
    "        slice_thickness = np.abs(slices[0].ImagePositionPatient[2] - slices[1].ImagePositionPatient[2])\n",
    "    except:\n",
    "        slice_thickness = np.abs(slices[0].SliceLocation - slices[1].SliceLocation)\n",
    "    for s in slices:\n",
    "        s.SliceThickness = slice_thickness\n",
    "        \n",
    "    return slices\n",
    "\n",
    "def remove_blanks(hu_images):\n",
    "    '''\n",
    "    remove blank images form the collection\n",
    "    '''\n",
    "    blanked_images = []\n",
    "    for i in range(hu_images.shape[0]):\n",
    "        if np.min(hu_images[i]) != np.max(hu_images[i]):\n",
    "            blanked_images.append(hu_images[i])\n",
    "    return np.array(blanked_images, dtype=np.int16)\n",
    "\n",
    "def siz(img):\n",
    "    desired_depth = 64\n",
    "    current_depth = img.shape[0]\n",
    "    depth = current_depth / desired_depth\n",
    "    depth_factor = 1 / depth\n",
    "    img_new = zoom(img, (depth_factor, 1, 1), mode='nearest')\n",
    "    return img_new\n",
    "\n",
    "def normalize(img):\n",
    "    #mini = np.min(img)\n",
    "    #maxi = np.max(img)\n",
    "    mini = -465\n",
    "    maxi = 5840\n",
    "    img = (img - mini) / (maxi - mini)\n",
    "    return img\n",
    "\n",
    "def resize_images(img, resize_dim=256):\n",
    "    resized = []\n",
    "    for i in range(img.shape[0]):\n",
    "        im = img[i]\n",
    "        img_t = cv2.resize(im, (resize_dim, resize_dim))\n",
    "        resized.append(img_t)\n",
    "    return np.array(resized)\n",
    "\n",
    "def get_label(patient, df):\n",
    "    label = df._get_value(patient, 'MGMT_value')\n",
    "    if label == 1:\n",
    "        label = np.array(1)\n",
    "    elif label == 0:\n",
    "        label = np.array(0)\n",
    "    return label\n",
    "    \n"
   ]
  },
  {
   "cell_type": "code",
   "execution_count": 16,
   "metadata": {},
   "outputs": [
    {
     "name": "stderr",
     "output_type": "stream",
     "text": [
      "  0%|                                                                                          | 0/585 [00:00<?, ?it/s]<ipython-input-16-1519d7374f0d>:27: VisibleDeprecationWarning: Creating an ndarray from ragged nested sequences (which is a list-or-tuple of lists-or-tuples-or ndarrays with different lengths or shapes) is deprecated. If you meant to do this, you must specify 'dtype=object' when creating the ndarray\n",
      "  all_data_numpy = np.array(output)\n",
      "100%|████████████████████████████████████████████████████████████████████████████████| 585/585 [17:54<00:00,  1.84s/it]\n"
     ]
    }
   ],
   "source": [
    "patients = os.listdir('../datasets/kaggle-brain-tumor/train')\n",
    "\n",
    "labels_df = pd.read_csv('../datasets/kaggle-brain-tumor/train_labels.csv', converters={'BraTS21ID': lambda x: str(x)})\n",
    "labels_df = labels_df.set_index('BraTS21ID')\n",
    "\n",
    "for patient in tqdm(patients):\n",
    "    if patient in ['00109', '00123', '00709']:\n",
    "        continue\n",
    "    output = []\n",
    "    slices = load_slices(patient) \n",
    "    hu_images = get_pixels_hu(slices)\n",
    "    images = remove_blanks(hu_images)\n",
    "    im = []\n",
    "    for j in range(images.shape[0]):\n",
    "        im.append(cv2.resize(images[j], (256, 256)))\n",
    "    images = np.array(im)\n",
    "    images = siz(images)\n",
    "    images = normalize(images)\n",
    "    \n",
    "    label = labels_df._get_value(patient, 'MGMT_value')\n",
    "    if label == 1:\n",
    "        label = np.array(1)\n",
    "    elif label == 0:\n",
    "        label = np.array(0)\n",
    "    \n",
    "    output.append([images, label])\n",
    "    all_data_numpy = np.array(output)\n",
    "    filename = patient + '.npy'\n",
    "    np.save(filename, all_data_numpy)\n"
   ]
  },
  {
   "cell_type": "code",
   "execution_count": 10,
   "metadata": {},
   "outputs": [
    {
     "name": "stdout",
     "output_type": "stream",
     "text": [
      "[[0.07375099 0.07375099 0.07375099 ... 0.07375099 0.07375099 0.07375099]\n",
      " [0.07375099 0.07375099 0.07375099 ... 0.07375099 0.07375099 0.07375099]\n",
      " [0.07375099 0.07375099 0.07375099 ... 0.07375099 0.07375099 0.07375099]\n",
      " ...\n",
      " [0.07375099 0.07375099 0.07375099 ... 0.07375099 0.07375099 0.07375099]\n",
      " [0.07375099 0.07375099 0.07375099 ... 0.07375099 0.07375099 0.07375099]\n",
      " [0.07375099 0.07375099 0.07375099 ... 0.07375099 0.07375099 0.07375099]]\n"
     ]
    }
   ],
   "source": [
    "print(all_data_numpy[0][0][56])"
   ]
  },
  {
   "cell_type": "code",
   "execution_count": 15,
   "metadata": {
    "scrolled": true
   },
   "outputs": [
    {
     "data": {
      "text/plain": [
       "<matplotlib.image.AxesImage at 0x2bc783ea550>"
      ]
     },
     "execution_count": 15,
     "metadata": {},
     "output_type": "execute_result"
    },
    {
     "data": {
      "image/png": "[encoded data removed]",
      "text/plain": [
       "<Figure size 432x288 with 1 Axes>"
      ]
     },
     "metadata": {
      "needs_background": "light"
     },
     "output_type": "display_data"
    }
   ],
   "source": [
    "import matplotlib.pyplot as plt\n",
    "plt.imshow(all_data_numpy[0][0][59])"
   ]
  },
  {
   "cell_type": "code",
   "execution_count": 26,
   "metadata": {
    "scrolled": true
   },
   "outputs": [
    {
     "data": {
      "text/plain": [
       "<matplotlib.image.AxesImage at 0x7f8d7bc1dbe0>"
      ]
     },
     "execution_count": 26,
     "metadata": {},
     "output_type": "execute_result"
    },
    {
     "data": {
      "image/png": "[encoded data removed]",
      "text/plain": [
       "<Figure size 432x288 with 1 Axes>"
      ]
     },
     "metadata": {
      "needs_background": "light"
     },
     "output_type": "display_data"
    }
   ],
   "source": [
    "import matplotlib.pyplot as plt\n",
    "plt.imshow(all_data_numpy[0][0][45], cmap='gray')"
   ]
  },
  {
   "cell_type": "code",
   "execution_count": 14,
   "metadata": {},
   "outputs": [
    {
     "data": {
      "text/plain": [
       "['00000.npy', 'converter.ipynb', '.ipynb_checkpoints']"
      ]
     },
     "execution_count": 14,
     "metadata": {},
     "output_type": "execute_result"
    }
   ],
   "source": [
    "os.listdir('./')"
   ]
  },
  {
   "cell_type": "code",
   "execution_count": 15,
   "metadata": {},
   "outputs": [],
   "source": [
    "import numpy as np\n",
    "sata = np.load('./00000.npy', allow_pickle=True)"
   ]
  },
  {
   "cell_type": "code",
   "execution_count": 17,
   "metadata": {},
   "outputs": [
    {
     "data": {
      "text/plain": [
       "(64, 256, 256)"
      ]
     },
     "execution_count": 17,
     "metadata": {},
     "output_type": "execute_result"
    }
   ],
   "source": [
    "sata[0][0].shape"
   ]
  },
  {
   "cell_type": "markdown",
   "metadata": {},
   "source": [
    "## Evaluating dataset mean"
   ]
  },
  {
   "cell_type": "code",
   "execution_count": 9,
   "metadata": {},
   "outputs": [
    {
     "name": "stderr",
     "output_type": "stream",
     "text": [
      "100%|██████████| 585/585 [30:57<00:00,  3.18s/it] \n"
     ]
    }
   ],
   "source": [
    "patients = os.listdir('/run/media/aryaman/T7/datasets/kaggle-brain-tumor/train')\n",
    "\n",
    "labels_df = pd.read_csv('/run/media/aryaman/T7/datasets/kaggle-brain-tumor/train_labels.csv', converters={'BraTS21ID': lambda x: str(x)})\n",
    "labels_df = labels_df.set_index('BraTS21ID')\n",
    "\n",
    "output = []\n",
    "min_val = 1000\n",
    "max_val = -1000\n",
    "for patient in tqdm(patients):\n",
    "    if patient in ['00109', '00123', '00709']:\n",
    "        continue\n",
    "    \n",
    "    slices = load_slices(patient) \n",
    "    hu_images = get_pixels_hu(slices)\n",
    "    images = remove_blanks(hu_images)\n",
    "    im = []\n",
    "    for j in range(images.shape[0]):\n",
    "        im.append(cv2.resize(images[j], (256, 256)))\n",
    "    images = np.array(im)\n",
    "    images = siz(images)\n",
    "    #output.append(images)\n",
    "    if np.min(images) < min_val:\n",
    "        min_val = np.min(images)\n",
    "    if np.max(images) > max_val:\n",
    "        max_val = np.max(images)\n",
    "    \n",
    "    "
   ]
  },
  {
   "cell_type": "code",
   "execution_count": 10,
   "metadata": {},
   "outputs": [
    {
     "name": "stdout",
     "output_type": "stream",
     "text": [
      "-465 5840\n"
     ]
    }
   ],
   "source": [
    "print(min_val, max_val)"
   ]
  }
 ],
 "metadata": {
  "kernelspec": {
   "display_name": "Python 3",
   "language": "python",
   "name": "python3"
  },
  "language_info": {
   "codemirror_mode": {
    "name": "ipython",
    "version": 3
   },
   "file_extension": ".py",
   "mimetype": "text/x-python",
   "name": "python",
   "nbconvert_exporter": "python",
   "pygments_lexer": "ipython3",
   "version": "3.8.5"
  }
 },
 "nbformat": 4,
 "nbformat_minor": 5
}
